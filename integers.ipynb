{
 "cells": [
  {
   "cell_type": "code",
   "execution_count": 3,
   "id": "41d23edf",
   "metadata": {},
   "outputs": [
    {
     "name": "stdout",
     "output_type": "stream",
     "text": [
      "<class 'int'>\n",
      "140711977194568\n"
     ]
    }
   ],
   "source": [
    "#Question - 1\n",
    "a = 10\n",
    "print(type(a))\n",
    "print(id(a))"
   ]
  },
  {
   "cell_type": "code",
   "execution_count": 2,
   "id": "60061f31",
   "metadata": {},
   "outputs": [
    {
     "name": "stdout",
     "output_type": "stream",
     "text": [
      "140711977195048 140711977195048\n"
     ]
    }
   ],
   "source": [
    "#Question - 2\n",
    "a = 25\n",
    "b = 25\n",
    "print(id(a), id(b))"
   ]
  },
  {
   "cell_type": "code",
   "execution_count": 4,
   "id": "4247907c",
   "metadata": {},
   "outputs": [
    {
     "name": "stdout",
     "output_type": "stream",
     "text": [
      "1306672447408 1306672434160\n",
      "1306672433712 1306672442192\n"
     ]
    }
   ],
   "source": [
    "#Question - 3\n",
    "a = 2578\n",
    "b = 2578\n",
    "print(id(a),id(b))\n",
    "c = -7\n",
    "d = -7\n",
    "print(id(c),id(d))"
   ]
  },
  {
   "cell_type": "code",
   "execution_count": 39,
   "id": "949465ab",
   "metadata": {},
   "outputs": [
    {
     "name": "stdout",
     "output_type": "stream",
     "text": [
      "30\n",
      "10\n",
      "200\n",
      "2.0\n",
      "2\n",
      "0\n",
      "10240000000000\n"
     ]
    }
   ],
   "source": [
    "#Question - 4  ( ARITHAMATIC OPRERATORS)\n",
    "a = 20\n",
    "b = 10\n",
    "print(a+b)#addition\n",
    "print(a-b)#difference\n",
    "print(a*b)#multiplication\n",
    "print(a/b)#division\n",
    "print(a//b)#integer division\n",
    "print(a%b)#modulus(remainder)\n",
    "print(a**b)#power value"
   ]
  },
  {
   "cell_type": "code",
   "execution_count": 12,
   "id": "e61bac4d",
   "metadata": {},
   "outputs": [
    {
     "name": "stdout",
     "output_type": "stream",
     "text": [
      "False\n",
      "False\n",
      "True\n",
      "True\n"
     ]
    }
   ],
   "source": [
    "#Question - 5 (COMPARISON OPERATORS)\n",
    "num1 = 20 \n",
    "num2 = 20\n",
    "print(num1>num2)#Greater than, '>'\n",
    "print(num1<num2)#Smaller than, '<'\n",
    "print(num1>=num2)#Greater than or equal to, '>='\n",
    "print(num1<=num2)#Less than or equal to, '<='"
   ]
  },
  {
   "cell_type": "code",
   "execution_count": 14,
   "id": "06ef89b1",
   "metadata": {
    "scrolled": true
   },
   "outputs": [
    {
     "name": "stdout",
     "output_type": "stream",
     "text": [
      "True\n",
      "False\n"
     ]
    }
   ],
   "source": [
    "#Question - 6  (Equality OperatorS)\n",
    "num1 = 10\n",
    "num2 = 10\n",
    "print(num1 == num2)\n",
    "print(num1 != num2) #return type is in boolen using equality operators"
   ]
  },
  {
   "cell_type": "code",
   "execution_count": 51,
   "id": "eb22219e",
   "metadata": {},
   "outputs": [
    {
     "name": "stdout",
     "output_type": "stream",
     "text": [
      "40\n",
      "0\n",
      "0\n",
      "0\n",
      "10\n",
      "20\n",
      "20\n",
      "0\n",
      "True\n",
      "False\n"
     ]
    }
   ],
   "source": [
    "#Question - 7  (Logical operators)\n",
    "print(20 and 40)  #logical and\n",
    "print(0 and 20)\n",
    "print(20 and 0)\n",
    "print(0 and 0)\n",
    "print(10 or 20)  #Logical or\n",
    "print(0 or 20)\n",
    "print(20 or 0)\n",
    "print(0 or 0)\n",
    "print(not 0)    #Logical not\n",
    "print(not 20)"
   ]
  },
  {
   "cell_type": "code",
   "execution_count": 6,
   "id": "1ab67c68",
   "metadata": {
    "scrolled": true
   },
   "outputs": [
    {
     "name": "stdout",
     "output_type": "stream",
     "text": [
      "0\n",
      "30\n",
      "30\n",
      "-11\n",
      "2\n",
      "40\n"
     ]
    }
   ],
   "source": [
    "#Question - 8  (Bitwise Operators)\n",
    "print(10 & 20)  #bitwise & (and)\n",
    "print(10 | 20)  #bitwise | (or)\n",
    "print(10 ^ 20)  #bitwise ^ (not)\n",
    "print( ~10)    #bitwise ~ (negation)\n",
    "print(10 >> 2)  #bitwise >> (right shift)\n",
    "print(10 << 2)  #bitwise <<  (Left shift)"
   ]
  },
  {
   "cell_type": "code",
   "execution_count": 32,
   "id": "7e483e67",
   "metadata": {},
   "outputs": [
    {
     "name": "stdout",
     "output_type": "stream",
     "text": [
      "False\n",
      "True\n"
     ]
    }
   ],
   "source": [
    "#Question - 9 (Identity operators)== checks the memory address\n",
    "a = 10\n",
    "b = 20\n",
    "print(a is b)\n",
    "print(a is not b)\n"
   ]
  },
  {
   "cell_type": "code",
   "execution_count": 7,
   "id": "e5e1963c",
   "metadata": {},
   "outputs": [
    {
     "name": "stdout",
     "output_type": "stream",
     "text": [
      "False\n",
      "True\n"
     ]
    }
   ],
   "source": [
    "#Question - 10  (Identity operators)\n",
    "a = 1000\n",
    "b = 1000\n",
    "print(a is b)\n",
    "print(a is not b)"
   ]
  },
  {
   "cell_type": "code",
   "execution_count": 21,
   "id": "dc8ce040",
   "metadata": {},
   "outputs": [
    {
     "name": "stdout",
     "output_type": "stream",
     "text": [
      "20\n"
     ]
    }
   ],
   "source": [
    "#Question - 11 \n",
    "print(10+(10*32)//2**5&20+(~(-10))<<2) #20"
   ]
  },
  {
   "cell_type": "code",
   "execution_count": 40,
   "id": "c0a3d8fd",
   "metadata": {},
   "outputs": [
    {
     "name": "stdout",
     "output_type": "stream",
     "text": [
      "True\n",
      "True\n",
      "True\n",
      "True\n",
      "True\n",
      "True\n"
     ]
    }
   ],
   "source": [
    "#Question - 12  (Membership operations)\n",
    "print('2' in 'Python2.7.8')\n",
    "print(10 in [10,10.20,10+20j,'Python'])\n",
    "print(10 in (10,10.20,10+20j,'Python'))\n",
    "print(2 in {1,2,3})\n",
    "print(3 in {1:100, 2:200, 3:300})\n",
    "print(10 in range(20))"
   ]
  },
  {
   "cell_type": "code",
   "execution_count": 25,
   "id": "1e0c537f",
   "metadata": {},
   "outputs": [
    {
     "name": "stdout",
     "output_type": "stream",
     "text": [
      "173\n",
      "27439\n",
      "853244\n",
      "0b10011010010100\n",
      "0o23224\n",
      "0x2694\n"
     ]
    }
   ],
   "source": [
    "#Question - 13\n",
    "a = 0b10101101 #binary \n",
    "print(a)\n",
    "b = 0o65457 #octa\n",
    "print(b)\n",
    "c = 0xd04fc #hexadecimal\n",
    "print(c)\n",
    "\n",
    "num = 9876\n",
    "print(bin(num))\n",
    "print(oct(num))\n",
    "print(hex(num))"
   ]
  },
  {
   "cell_type": "code",
   "execution_count": 26,
   "id": "e605d113",
   "metadata": {},
   "outputs": [
    {
     "name": "stdout",
     "output_type": "stream",
     "text": [
      "80\n",
      "3870\n",
      "64222\n",
      "0b1010000\n",
      "0o7436\n",
      "0xfade\n",
      "0b1010000\n",
      "0b1111101011011110\n",
      "0o175336\n",
      "0o7436\n",
      "0x50\n",
      "0xfade\n"
     ]
    }
   ],
   "source": [
    "#Question - 14\n",
    "a = 0b1010000 #binary \n",
    "print(a)\n",
    "b = 0o7436 #octa\n",
    "print(b)\n",
    "c = 0xfade #hexadecimal\n",
    "print(c)\n",
    "\n",
    "#conversions from binary,octal, hexa to decimal numbers\n",
    "print(bin(80))\n",
    "print(oct(3870))\n",
    "print(hex(64222))\n",
    "print(bin(0b1010000))\n",
    "print(bin(0xfade))\n",
    "print(oct(0xfade))\n",
    "print(oct(0o7436))\n",
    "print(hex(0b1010000))\n",
    "print(hex(0xfade))"
   ]
  },
  {
   "cell_type": "code",
   "execution_count": null,
   "id": "2513479a",
   "metadata": {},
   "outputs": [],
   "source": []
  }
 ],
 "metadata": {
  "kernelspec": {
   "display_name": "Python 3 (ipykernel)",
   "language": "python",
   "name": "python3"
  },
  "language_info": {
   "codemirror_mode": {
    "name": "ipython",
    "version": 3
   },
   "file_extension": ".py",
   "mimetype": "text/x-python",
   "name": "python",
   "nbconvert_exporter": "python",
   "pygments_lexer": "ipython3",
   "version": "3.11.4"
  }
 },
 "nbformat": 4,
 "nbformat_minor": 5
}
