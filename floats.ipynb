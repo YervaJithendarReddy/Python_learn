{
 "cells": [
  {
   "cell_type": "code",
   "execution_count": 17,
   "id": "41d23edf",
   "metadata": {},
   "outputs": [
    {
     "name": "stdout",
     "output_type": "stream",
     "text": [
      "<class 'float'>\n",
      "2402393662320\n"
     ]
    }
   ],
   "source": [
    "#Question - 1\n",
    "num1 = 25.55\n",
    "print(type(num1))\n",
    "print(id(num1))"
   ]
  },
  {
   "cell_type": "code",
   "execution_count": 24,
   "id": "949465ab",
   "metadata": {},
   "outputs": [
    {
     "name": "stdout",
     "output_type": "stream",
     "text": [
      "37.22\n",
      "13.88\n",
      "298.1685\n",
      "2.189374464438732\n",
      "2.0\n",
      "2.210000000000001\n",
      "2.6561454619034104e+16\n"
     ]
    }
   ],
   "source": [
    "#Question - 2 ( Arithmetic Operations on float)\n",
    "a = 25.55\n",
    "b = 11.67\n",
    "print(a+b) #addition\n",
    "print(a-b) #difference\n",
    "print(a*b) #multiplication\n",
    "print(a/b) #division\n",
    "print(a//b) #integer division\n",
    "print(a%b) #modulus(remainder)\n",
    "print(a**b) #power value"
   ]
  },
  {
   "cell_type": "code",
   "execution_count": 25,
   "id": "e61bac4d",
   "metadata": {},
   "outputs": [
    {
     "name": "stdout",
     "output_type": "stream",
     "text": [
      "True\n",
      "False\n",
      "True\n",
      "False\n"
     ]
    }
   ],
   "source": [
    "#Question - 3 ( Comparison Operators on floats)\n",
    "num1 = 16.76\n",
    "num2 = 15.55\n",
    "print(num1>num2)  #Greater than, '>'\n",
    "print(num1<num2)  #Smaller than, '<'\n",
    "print(num1>=num2)  #Greater than or equal to, '>='\n",
    "print(num1<=num2)  #Less than or equal to, '<='"
   ]
  },
  {
   "cell_type": "code",
   "execution_count": 26,
   "id": "06ef89b1",
   "metadata": {
    "scrolled": true
   },
   "outputs": [
    {
     "name": "stdout",
     "output_type": "stream",
     "text": [
      "True\n",
      "False\n"
     ]
    }
   ],
   "source": [
    "#Question - 4 (Equality Operators on floats)\n",
    "num1 = 11.98\n",
    "num2 = 11.98\n",
    "print(num1 == num2)\n",
    "print(num1 != num2)"
   ]
  },
  {
   "cell_type": "code",
   "execution_count": 27,
   "id": "eb22219e",
   "metadata": {},
   "outputs": [
    {
     "name": "stdout",
     "output_type": "stream",
     "text": [
      "20.3\n",
      "0.0\n",
      "0.0\n",
      "0.0\n",
      "10.2\n",
      "20.3\n",
      "20.0\n",
      "0.0\n",
      "False\n",
      "True\n"
     ]
    }
   ],
   "source": [
    "#Question - 5  (Logical operators on floats)\n",
    "print(10.20 and 20.30)\n",
    "print(0.0 and 20.30)\n",
    "print(20.30 and 0.0)\n",
    "print(0.0 and 0.0)\n",
    "\n",
    "print(10.20 or 20.30)\n",
    "print(0.0 or 20.30)\n",
    "print(20.0 or 0.0)\n",
    "print(0.0 or 0.0)\n",
    "\n",
    "print(not 10.20)\n",
    "print(not 0.0)"
   ]
  },
  {
   "cell_type": "code",
   "execution_count": 28,
   "id": "7e483e67",
   "metadata": {},
   "outputs": [
    {
     "name": "stdout",
     "output_type": "stream",
     "text": [
      "True\n",
      "False\n",
      "False\n",
      "True\n"
     ]
    }
   ],
   "source": [
    "#Question - 6 (Identity operators on floats)\n",
    "a = 10.20\n",
    "b = a\n",
    "print(a is b)\n",
    "print(a is not b)\n",
    "\n",
    "num1 = 10.21        # here the id of float values are diffrent so that (num1 is num2) is always false even though they have same values\n",
    "num2 = 10.21\n",
    "print(num1 is num2)\n",
    "print(num1 is not num2)\n"
   ]
  },
  {
   "cell_type": "code",
   "execution_count": 14,
   "id": "e5e1963c",
   "metadata": {},
   "outputs": [],
   "source": [
    "#Question - 7 \n",
    "'''a= 10.20 , b =10.20\n",
    "Here the id's of two different values are different  \n",
    "when they have assigned the same values also.\n",
    "But whenever we did (a=c) here it c is refering to the address of'a'so these two will have same id's\n",
    "'''"
   ]
  },
  {
   "cell_type": "code",
   "execution_count": 23,
   "id": "2513479a",
   "metadata": {},
   "outputs": [
    {
     "name": "stdout",
     "output_type": "stream",
     "text": [
      "True\n",
      "True\n",
      "True\n",
      "True\n",
      "True\n",
      "True\n"
     ]
    }
   ],
   "source": [
    "#Question - 8 (Membership operation)\n",
    "print('2.7' in 'Python2.7.8')\n",
    "print(10.20 in [10,10.20,10+20j,'Python'])\n",
    "print(10.20 in (10,10.20,10+20j,'Python'))\n",
    "print(20.30 in {1,20.30,30+40j})\n",
    "print(2.3 in {1:100, 2.3:200, 30+40j:300})\n",
    "print(10 in range(20))"
   ]
  }
 ],
 "metadata": {
  "kernelspec": {
   "display_name": "Python 3 (ipykernel)",
   "language": "python",
   "name": "python3"
  },
  "language_info": {
   "codemirror_mode": {
    "name": "ipython",
    "version": 3
   },
   "file_extension": ".py",
   "mimetype": "text/x-python",
   "name": "python",
   "nbconvert_exporter": "python",
   "pygments_lexer": "ipython3",
   "version": "3.11.4"
  }
 },
 "nbformat": 4,
 "nbformat_minor": 5
}
