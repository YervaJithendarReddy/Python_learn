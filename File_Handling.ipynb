{
 "cells": [
  {
   "cell_type": "code",
   "execution_count": 9,
   "metadata": {},
   "outputs": [
    {
     "name": "stdout",
     "output_type": "stream",
     "text": [
      "Enter file name poem.txt\n",
      "\"Two roads diverged in a yellow wood,\n",
      " And sorry I could not travel both\n",
      " And be one traveler, long I stood\n",
      " And looked down one as far as I could\n"
     ]
    }
   ],
   "source": [
    "# Write a function in python to read the content from \n",
    "# a text file \"poem.txt\" line by line and display the same on screen.\n",
    "# Create a file \"poem.txt\" with some content\n",
    "\n",
    "def ope_txt(file_name):\n",
    "    with open(file_name,\"rt\") as po:\n",
    "        print(po.read())\n",
    "        \n",
    "name = input(\"Enter file name \")\n",
    "ope_txt(name)\n",
    "    "
   ]
  },
  {
   "cell_type": "code",
   "execution_count": 31,
   "metadata": {},
   "outputs": [
    {
     "name": "stdout",
     "output_type": "stream",
     "text": [
      "3\n"
     ]
    }
   ],
   "source": [
    "# Write a function in python to count the number of lines \n",
    "# from a text file \"story.txt\" which is not starting with an alphabet \"T\". \n",
    "\n",
    "# Example: If the file \"story.txt\" contains the following lines: A boy is playing there.\n",
    "# There is a playground.\n",
    "# An aeroplane is in the sky.\n",
    "# The sky is pink.\n",
    "# Alphabets and numbers are allowed in the password.\n",
    "# The function should display the output as 3\n",
    "\n",
    "def ope_txt(file_name):\n",
    "    count = 0\n",
    "    with open(file_name,\"rt\") as po:\n",
    "        a = po.readlines()\n",
    "        for i in a:\n",
    "            if i[0]=='T':\n",
    "                count += 1\n",
    "    return count\n",
    "a = ope_txt(\"poem.txt\")\n",
    "print(a)"
   ]
  },
  {
   "cell_type": "code",
   "execution_count": 43,
   "metadata": {},
   "outputs": [
    {
     "name": "stdout",
     "output_type": "stream",
     "text": [
      "35\n"
     ]
    }
   ],
   "source": [
    "# Write a function in Python to count and display the total number of words in a text file.\n",
    "\n",
    "def con(file):\n",
    "    count = 0\n",
    "    b = ''\n",
    "    with open(file,\"rt\") as po:\n",
    "        a = po.readlines()\n",
    "        for i in a:\n",
    "            for j in i:\n",
    "                if j == ' ' or j == \".\":\n",
    "                    count +=1\n",
    "                    b = ''\n",
    "                else:\n",
    "                    b+=j\n",
    "        if b:\n",
    "            count += 1\n",
    "    return count\n",
    "a = con(\"poem.txt\")\n",
    "print(a)"
   ]
  },
  {
   "cell_type": "code",
   "execution_count": 56,
   "metadata": {},
   "outputs": [
    {
     "name": "stdout",
     "output_type": "stream",
     "text": [
      "5\n"
     ]
    }
   ],
   "source": [
    "# Write a function in Python to read lines from a text file \"notes.txt\". \n",
    "# Your function should find and display the occurrence of the word \"the\".\n",
    "\n",
    "# For example: If the content of the file is:\n",
    "# \"India is the fastest-growing economy. India is looking for more investments around the globe. The whole world is looking at India as a great market. Most of the Indians can foresee the heights that India is capable of reaching.\"\n",
    "\n",
    "# The output should be 5.\n",
    "\n",
    "def con(file):\n",
    "    count = 1\n",
    "    b = ''\n",
    "    with open(file,\"rt\") as po:\n",
    "        a = po.read()\n",
    "        s = a.split()\n",
    "        for i in s:\n",
    "            if i == \"the\":\n",
    "                count += 1\n",
    "    return count\n",
    "a = con(\"notes.txt\")\n",
    "print(a)\n",
    "    \n",
    "#There are only four number of \"the\" in the file/ string. If we want 5 we can just add +1 to the count"
   ]
  },
  {
   "cell_type": "code",
   "execution_count": 74,
   "metadata": {},
   "outputs": [
    {
     "name": "stdout",
     "output_type": "stream",
     "text": [
      "the\n",
      "A\n",
      "boy\n",
      "is\n",
      "is\n",
      "a\n",
      "An\n",
      "is\n",
      "in\n",
      "the\n",
      "The\n",
      "sky\n",
      "is\n",
      "and\n",
      "are\n",
      "in\n",
      "the\n",
      "The\n",
      "the\n",
      "as\n",
      "3\n"
     ]
    }
   ],
   "source": [
    "# Write a function display_words() in python to read lines from a text file \"story.txt\", \n",
    "# and display those words, which are less than 4 characters.\n",
    "\n",
    "def display_words(file):\n",
    "    with open(file,\"rt\") as po:\n",
    "        a = po.readlines()\n",
    "        for i in a:\n",
    "            w = i.split()\n",
    "            for j in w:\n",
    "                if len(j)<4:\n",
    "                    print(j)\n",
    "display_words(\"story.txt\")"
   ]
  },
  {
   "cell_type": "code",
   "execution_count": 83,
   "metadata": {},
   "outputs": [
    {
     "name": "stdout",
     "output_type": "stream",
     "text": [
      "4\n"
     ]
    }
   ],
   "source": [
    "# Write a function in Python to count the words \"this\" and \"these\" present in a text file \"article.txt\". \n",
    "# [Note that the words \"this\" and \"these\" are complete words] \n",
    "\n",
    "def cou(file):\n",
    "    count = 0\n",
    "    with open(file,'rt') as po:\n",
    "        a = po.read()\n",
    "        b = a.split()\n",
    "        for i in b:    \n",
    "            if i == \"this\" or i == \"these\":\n",
    "                count+=1\n",
    "    return count\n",
    "\n",
    "print(cou(\"story.txt\"))"
   ]
  },
  {
   "cell_type": "code",
   "execution_count": 86,
   "metadata": {},
   "outputs": [
    {
     "name": "stdout",
     "output_type": "stream",
     "text": [
      "10\n"
     ]
    }
   ],
   "source": [
    "# Write a function in Python to count words in a text file those are ending with alphabet \"e\"\n",
    "def cou(file):\n",
    "    count = 0\n",
    "    with open(file,'rt') as po:\n",
    "        a = po.read()\n",
    "        b = a.split()\n",
    "        for i in b:    \n",
    "            if i.endswith(\"e\"):\n",
    "                count+=1\n",
    "    return count\n",
    "\n",
    "print(cou(\"story.txt\"))"
   ]
  },
  {
   "cell_type": "code",
   "execution_count": 111,
   "metadata": {},
   "outputs": [
    {
     "name": "stdout",
     "output_type": "stream",
     "text": [
      "6\n"
     ]
    }
   ],
   "source": [
    "# Write a function in Python to count uppercase character in a text file.\n",
    "def cou(file):\n",
    "    count = 0\n",
    "    with open(file,'rt') as po:\n",
    "        a = po.read()\n",
    "        for i in a:\n",
    "            if i.isupper():\n",
    "                count +=1\n",
    "                pass\n",
    "    return count\n",
    "print(cou(\"story.txt\"))"
   ]
  },
  {
   "cell_type": "code",
   "execution_count": 115,
   "metadata": {},
   "outputs": [
    {
     "name": "stdout",
     "output_type": "stream",
     "text": [
      "T#H#E# #W#O#R#L#D# #I#S# #R#O#U#N#D#\n"
     ]
    }
   ],
   "source": [
    "# A text file named \"matter.txt\" contains some text, which needs to be displayed such that \n",
    "# every next character is separated by a symbol \"#\". \n",
    "# Write a function definition for hash_display() in Python that would display \n",
    "# the entire content of the file matter.txt in the desired format.\n",
    "\n",
    "# Example :\n",
    "# If the file matter.txt has the following content stored in it :\n",
    "# THE WORLD IS ROUND\n",
    "\n",
    "# The function hash_display() should display the following content :\n",
    "# T#H#E# #W#O#R#L#D# #I#S# #R#O#U#N#D#\n",
    "\n",
    "def hash_display(file):\n",
    "    b = ''\n",
    "    with open(file,\"rt\") as po:\n",
    "        a = po.read()\n",
    "        for i in a:\n",
    "            b +=i+\"#\"\n",
    "    return b\n",
    "print(hash_display(\"matter.txt\"))"
   ]
  },
  {
   "cell_type": "code",
   "execution_count": 127,
   "metadata": {},
   "outputs": [
    {
     "name": "stdout",
     "output_type": "stream",
     "text": [
      "WELL, THIS IS A WORD BY ITSELF. YOU COULD STRETCH THIS TO BE A SENTENCE\n"
     ]
    }
   ],
   "source": [
    "# Aditi has used a text editing software to type some text. After saving the article as WORDS.TXT, \n",
    "# she realised that she has wrongly typed alphabet J in place of alphabet I everywhere in the article.\n",
    "# Write a function definition for JTOI() in Python that would display the corrected version of entire content \n",
    "# of the file WORDS.TXT with all the alphabets \"J\" to be displayed as an alphabet \"I\" on screen.\n",
    "\n",
    "# Note: Assuming that WORD.TXT does not contain any J alphabet otherwise.\n",
    "\n",
    "# Example:\n",
    "# If Aditi has stored the following content in the file WORDS.TXT:\n",
    "# WELL, THJS JS A WORD BY JTSELF. YOU COULD STRETCH THJS TO BE A SENTENCE\n",
    "# The function JTOI() should display the following content:\n",
    "# WELL, THIS IS A WORD BY ITSELF. YOU COULD STRETCH THIS TO BE A SENTENCE\n",
    "\n",
    "def JTOI(file):\n",
    "    with open(file,\"r+\") as po:\n",
    "        a = po.read()\n",
    "        b = a.replace(\"J\",\"I\")\n",
    "    print(b)\n",
    "JTOI(\"WORDS.TXT\")"
   ]
  },
  {
   "cell_type": "code",
   "execution_count": 136,
   "metadata": {},
   "outputs": [
    {
     "name": "stdout",
     "output_type": "stream",
     "text": [
      "A or a: 4\n",
      "M or m: 2\n"
     ]
    }
   ],
   "source": [
    "# Write a function AMCount() in Python, which should read each character of a text file STORY.TXT, \n",
    "# should count and display the occurance of alphabets A and M (including small cases a and m too).\n",
    "# For Example:\n",
    "# If the file content is as follows:\n",
    "# Updated information\n",
    "# As simplified by official websites.\n",
    "# The EUCount() function should display the output as:\n",
    "# A or a:4\n",
    "# M or m :2\n",
    "\n",
    "def AMCount(file):\n",
    "    A = 0\n",
    "    m = 0\n",
    "    with open(file,'rt') as fh:\n",
    "        a = fh.read()\n",
    "        for i in a:\n",
    "            if i in [\"M\",\"m\"]:\n",
    "                m =m+1\n",
    "            elif i in [\"A\",\"a\"]:\n",
    "                A+=1\n",
    "                \n",
    "    print(f\"A or a: {A}\")\n",
    "    print(f\"M or m: {m}\")\n",
    "    \n",
    "\n",
    "AMCount(\"STORY.TXT\")\n",
    "                "
   ]
  },
  {
   "cell_type": "code",
   "execution_count": 15,
   "metadata": {},
   "outputs": [
    {
     "name": "stdout",
     "output_type": "stream",
     "text": [
      "Enter the book no: 102\n",
      "Enter the name of the book: jithu\n",
      "Enter the name of the author: her\n",
      "Enter the price: 150\n",
      "enter the author name: him\n"
     ]
    },
    {
     "data": {
      "text/plain": [
       "1"
      ]
     },
     "execution_count": 15,
     "metadata": {},
     "output_type": "execute_result"
    }
   ],
   "source": [
    "# A binary file \"Book.dat\" has structure [BookNo, Book_Name, Author, Price].\n",
    "# i. Write a user defined function createFile() to input data for a record and add to Book.dat.\n",
    "# ii. Write a function countRec(Author) in Python which accepts the Author name as parameter \n",
    "# and count and return number of books by the given Author are stored in the binary file \"Book.dat\"\n",
    "\n",
    "import pickle\n",
    "\n",
    "def createfile(file):\n",
    "    bookno = input(\"Enter the book no: \")\n",
    "    bookname = input(\"Enter the name of the book: \")\n",
    "    author = input(\"Enter the name of the author: \")\n",
    "    price = float(input(\"Enter the price: \"))\n",
    "    dic = {\"book_no\":bookno,\"bookname\":bookname,\"author\":author,\"price\":price}\n",
    "    with open(\"Book.dat\",\"ab\") as fh:\n",
    "        pickle.dump(dic,fh)\n",
    "        \n",
    "def countRec(file,author_name):\n",
    "    count = 0\n",
    "    with open(file,\"rb\") as x:\n",
    "        while True:\n",
    "            try:\n",
    "                a = pickle.load(x)\n",
    "                if a['author']==author_name:\n",
    "                    count+=1\n",
    "            except EOFError:\n",
    "                break\n",
    "    return count\n",
    "                \n",
    "createfile(\"Book.dat\")\n",
    "\n",
    "author_name = input(\"enter the author name: \")\n",
    "countRec(\"Book.dat\",author_name)\n"
   ]
  },
  {
   "cell_type": "code",
   "execution_count": 33,
   "metadata": {},
   "outputs": [
    {
     "name": "stdout",
     "output_type": "stream",
     "text": [
      "1005\n",
      "Jithu\n",
      "85\n",
      "\n"
     ]
    }
   ],
   "source": [
    "# A binary file \"STUDENT.DAT\" has structure (admission_number, Name, Percentage). \n",
    "# Write a function count_rec() in Python that would read contents of the file \"STUDENT.DAT\" \n",
    "# and display the details of those students whose percentage is above 75. \n",
    "# Also display number of students scoring above 75%\n",
    "\n",
    "def count_rec(file):\n",
    "    count =0\n",
    "    with open(file,\"rb\") as fh:\n",
    "        while True:\n",
    "            try:\n",
    "                a = pickle.load(fh)\n",
    "                if a[\"Percentage\"]>75:\n",
    "                    print(a[\"admission_number\"])\n",
    "                    print(a[\"Name\"])\n",
    "                    print(a[\"Percentage\"])\n",
    "                    print()\n",
    "                    count+=1\n",
    "            except EOFError:\n",
    "                    break\n",
    "filename = \"STUDENT.DAT\"\n",
    "count_rec(filename)"
   ]
  },
  {
   "cell_type": "code",
   "execution_count": 8,
   "metadata": {},
   "outputs": [
    {
     "name": "stdout",
     "output_type": "stream",
     "text": [
      "Enter Employee Code: 12\n",
      "Enter Employee Name: Jithu\n",
      "Enter Salary: 66000\n",
      "Employee Code: 101\n",
      "Employee Name: Jithu\n",
      "Salary: 350000.0\n",
      "\n",
      "Employee Code: 102\n",
      "Employee Name: Jithu\n",
      "Salary: 350000.0\n",
      "\n",
      "Employee Code: 103\n",
      "Employee Name: Manish\n",
      "Salary: 450000.0\n",
      "\n",
      "Employee Code: 103\n",
      "Employee Name: Krishna\n",
      "Salary: 900000.0\n",
      "\n",
      "Employee Code: 12\n",
      "Employee Name: Jithu\n",
      "Salary: 66000.0\n",
      "\n"
     ]
    }
   ],
   "source": [
    "# Given a binary file employee.dat, created using dictionary object having keys: (empcode, name, and salary)\n",
    "\n",
    "# Write a python function that add one more record at the end of file.\n",
    "# Write a python function that display all employee records whose salary is more that 30000\n",
    "import pickle\n",
    "\n",
    "\n",
    "def add_record(filename):\n",
    "        empcode = input(\"Enter Employee Code: \")\n",
    "        name = input(\"Enter Employee Name: \")\n",
    "        salary = float(input(\"Enter Salary: \"))\n",
    "\n",
    "        record = {'empcode': empcode,'name': name,'salary': salary}\n",
    "\n",
    "        with open(filename, 'ab') as file:\n",
    "            pickle.dump(record, file)\n",
    "\n",
    "def display_high_salary_employees(filename):\n",
    "        with open(filename, 'rb') as file:\n",
    "            while True:\n",
    "                try:\n",
    "                    record = pickle.load(file)\n",
    "                    if record['salary'] > 30000:\n",
    "                        print(\"Employee Code:\", record['empcode'])\n",
    "                        print(\"Employee Name:\", record['name'])\n",
    "                        print(\"Salary:\", record['salary'])\n",
    "                        print()\n",
    "                except EOFError:\n",
    "                    break\n",
    "\n",
    "filename = \"employee.dat\"\n",
    "\n",
    "add_record(filename)\n",
    "\n",
    "display_high_salary_employees(filename)"
   ]
  },
  {
   "cell_type": "code",
   "execution_count": 46,
   "metadata": {},
   "outputs": [
    {
     "name": "stdout",
     "output_type": "stream",
     "text": [
      "1005\n",
      "Jithu\n",
      "8\n",
      "3000\n"
     ]
    }
   ],
   "source": [
    "# Write a function to search and display details of student whose rollno is '1005' \n",
    "# from the binary file student.dat having structure [rollno, name, class and fees].\n",
    "\n",
    "def display(file):\n",
    "    with open(file,\"rb\") as fh:\n",
    "        while True:\n",
    "            try:\n",
    "                a = pickle.load(fh)\n",
    "                if a['rollno']==1005:\n",
    "                    print(a[\"rollno\"])\n",
    "                    print(a[\"Name\"])\n",
    "                    print(a[\"class\"])\n",
    "                    print(a[\"fees\"])\n",
    "            except EOFError:\n",
    "                 break\n",
    "\n",
    "file_name = \"student.dat\"                 \n",
    "display(file_name)"
   ]
  },
  {
   "cell_type": "code",
   "execution_count": 49,
   "metadata": {},
   "outputs": [
    {
     "data": {
      "text/plain": [
       "3000"
      ]
     },
     "execution_count": 49,
     "metadata": {},
     "output_type": "execute_result"
    }
   ],
   "source": [
    "# A binary file school.dat has structure(rollno, name, class, fees)\n",
    "\n",
    "# Write a definition for function total_fees( ) that reads each object of file and calculate \n",
    "# the total fees of students and display the same.\n",
    "\n",
    "def total_fees(filename):\n",
    "        total_fees = 0\n",
    "        with open(filename, 'rb') as file:\n",
    "            while True:\n",
    "                try:\n",
    "                    a = pickle.load(file)\n",
    "                    total_fees += a['fees']\n",
    "                except EOFError:\n",
    "                    break\n",
    "        return total_fees\n",
    "\n",
    "filename = \"school.dat\"\n",
    "total_fees(filename)\n"
   ]
  },
  {
   "cell_type": "code",
   "execution_count": 68,
   "metadata": {},
   "outputs": [
    {
     "name": "stdout",
     "output_type": "stream",
     "text": [
      "1005 AJithu Australia 3000\n",
      "\n",
      "1\n",
      "enter the code: 101\n",
      "enter the name: Jithu\n",
      "Enter the country: India\n",
      "Enter the total number of runs: 6500\n",
      "details added\n"
     ]
    }
   ],
   "source": [
    "# A binary file players.dat, containing records of following list format: [code, name, country and total runs]\n",
    "\n",
    "# 1. Write a python function that display all records where player name starts from 'A'\n",
    "# 2. Write a python function that accept country as an argument and count and display \n",
    "#     the number of players of that country.\n",
    "# 3. Write a python function that add one record at the end of file.\n",
    "\n",
    "def display(filename):\n",
    "    with open(filename,\"rb\") as fh:\n",
    "        while True:\n",
    "            try:\n",
    "                a = pickle.load(fh)\n",
    "                if a['name'].startswith('A'):\n",
    "                    print(a[\"code\"],a[\"name\"],a[\"country\"] ,a[\"total_runs\"])\n",
    "                    print()\n",
    "            except EOFError:\n",
    "                break\n",
    "\n",
    "                \n",
    "                \n",
    "def details(country_name,filename):\n",
    "    count = 0\n",
    "    with open(filename,\"rb\") as fh:\n",
    "        while True:\n",
    "            try:\n",
    "                a = pickle.load(fh)\n",
    "                if a[\"country\"] == country_name:\n",
    "                    count+=1\n",
    "            except EOFError:\n",
    "                break\n",
    "    return count\n",
    "\n",
    "def add_details(file_name):\n",
    "    code = input(\"enter the code: \")\n",
    "    name = input(\"enter the name: \")\n",
    "    country = input(\"Enter the country: \")\n",
    "    total_runs = input(\"Enter the total number of runs: \")\n",
    "    details = {\"code\":code, \"name\":name, \"country\":country, \"total_runs\":total_runs}\n",
    "    with open(filename,\"ab\") as fh:\n",
    "        pickle.dump(details,fh)\n",
    "    return \"details added\"\n",
    "        \n",
    "a = \"players.dat\"\n",
    "display(a)\n",
    "print(details(\"Australia\",a))\n",
    "print(add_details(a))"
   ]
  },
  {
   "cell_type": "code",
   "execution_count": 70,
   "metadata": {
    "ExecuteTime": {
     "end_time": "2021-05-29T10:46:59.140338Z",
     "start_time": "2021-05-29T10:46:59.135100Z"
    }
   },
   "outputs": [],
   "source": [
    "# Given a binary file game.dat, containing records of following list format: [game_name, participants]\n",
    "\n",
    "# Write a function in Python that would read contents from the file game.dat and \n",
    "# creates a file named basket.dat copying only those records from game.dat where the game name is \"Basket Ball\"\n",
    "\n",
    "def read(filename,new_file):\n",
    "    with open(filename,\"rb\") as fh:\n",
    "        while True:\n",
    "            try:\n",
    "                a = pickle.load(fh)\n",
    "                if a[\"game_name\"] == \"Basket_ball\":\n",
    "                    with open(new_file,\"ab\") as ph:\n",
    "                        pickle.dump(a,ph)\n",
    "            except EOFError:\n",
    "                break\n",
    "\n",
    "file = \"game.dat\"\n",
    "new  = \"basket.dat\"\n",
    "read(file,new)"
   ]
  }
 ],
 "metadata": {
  "kernelspec": {
   "display_name": "Python 3 (ipykernel)",
   "language": "python",
   "name": "python3"
  },
  "language_info": {
   "codemirror_mode": {
    "name": "ipython",
    "version": 3
   },
   "file_extension": ".py",
   "mimetype": "text/x-python",
   "name": "python",
   "nbconvert_exporter": "python",
   "pygments_lexer": "ipython3",
   "version": "3.11.4"
  }
 },
 "nbformat": 4,
 "nbformat_minor": 2
}
