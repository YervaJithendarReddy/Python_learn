{
 "cells": [
  {
   "cell_type": "code",
   "execution_count": 3,
   "id": "41d23edf",
   "metadata": {},
   "outputs": [
    {
     "name": "stdout",
     "output_type": "stream",
     "text": [
      "<class 'bool'>\n",
      "140711975725600\n",
      "<class 'bool'>\n",
      "140711975725600\n"
     ]
    }
   ],
   "source": [
    "#Question - 1\n",
    "bll = True\n",
    "print(type(bll))\n",
    "print(id(bll))\n",
    "\n",
    "bll1 = bool(15)\n",
    "print(type(bll1))\n",
    "print(id(bll1))"
   ]
  },
  {
   "cell_type": "code",
   "execution_count": 4,
   "id": "60061f31",
   "metadata": {},
   "outputs": [
    {
     "name": "stdout",
     "output_type": "stream",
     "text": [
      "140711975725600 140711975725600\n"
     ]
    }
   ],
   "source": [
    "#Question - 2\n",
    "bll = bool(25)\n",
    "bll1 = bool(25)\n",
    "print(id(bll), id(bll1))\n",
    "#same address to both the boolean values because of memeory reuasability is applicable to boolean values"
   ]
  },
  {
   "cell_type": "code",
   "execution_count": 7,
   "id": "949465ab",
   "metadata": {},
   "outputs": [
    {
     "name": "stdout",
     "output_type": "stream",
     "text": [
      "2\n",
      "0\n",
      "1\n",
      "1.0\n",
      "1\n",
      "0\n",
      "1\n",
      "1\n",
      "-1\n",
      "0\n",
      "0.0\n",
      "0\n",
      "0\n",
      "0\n"
     ]
    }
   ],
   "source": [
    "#Question - 3 ( Arithamatic operations on bool values)\n",
    "a = True\n",
    "b = True\n",
    "print(a+b)  #addition\n",
    "print(a-b)  #difference\n",
    "print(a*b)  #multiplication\n",
    "print(a/b)  #division\n",
    "print(a//b)  #integer division\n",
    "print(a%b)  #modulus(remainder)\n",
    "print(a**b)  #power value\n",
    "\n",
    "a = bool(0)\n",
    "b = bool(1)\n",
    "print(a+b) \n",
    "print(a-b)  \n",
    "print(a*b)  \n",
    "print(a/b)  \n",
    "print(a//b)\n",
    "print(a%b)  \n",
    "print(a**b)"
   ]
  },
  {
   "cell_type": "code",
   "execution_count": 9,
   "id": "e61bac4d",
   "metadata": {},
   "outputs": [
    {
     "name": "stdout",
     "output_type": "stream",
     "text": [
      "False\n",
      "False\n",
      "True\n",
      "True\n",
      "True\n",
      "False\n",
      "True\n",
      "False\n"
     ]
    }
   ],
   "source": [
    "#Question - 4 \n",
    "num1 = bool(20) \n",
    "num2 = bool(20)\n",
    "print(num1>num2)  #Greater than, '>'\n",
    "print(num1<num2)  #Smaller than, '<'\n",
    "print(num1>=num2) #Greater than or equal to, '>='\n",
    "print(num1<=num2) #Less than or equal to, '<='\n",
    "\n",
    "\n",
    "num1 = True \n",
    "num2 = False\n",
    "print(num1>num2)\n",
    "print(num1<num2)\n",
    "print(num1>=num2)\n",
    "print(num1<=num2) "
   ]
  },
  {
   "cell_type": "code",
   "execution_count": 10,
   "id": "06ef89b1",
   "metadata": {
    "scrolled": true
   },
   "outputs": [
    {
     "name": "stdout",
     "output_type": "stream",
     "text": [
      "False\n",
      "True\n"
     ]
    }
   ],
   "source": [
    "#Question - 5\n",
    "num1 = True\n",
    "num2 = False\n",
    "print(num1 == num2)\n",
    "print(num1 != num2)"
   ]
  },
  {
   "cell_type": "code",
   "execution_count": 11,
   "id": "eb22219e",
   "metadata": {},
   "outputs": [
    {
     "name": "stdout",
     "output_type": "stream",
     "text": [
      "True\n",
      "False\n",
      "False\n",
      "False\n",
      "True\n",
      "True\n",
      "True\n",
      "False\n",
      "False\n",
      "True\n"
     ]
    }
   ],
   "source": [
    "#Question - 6 \n",
    "print(True and True)  #logical and\n",
    "print(False and True)\n",
    "print(True and False)\n",
    "print(False and False)\n",
    "print(True or True)  #Logical or\n",
    "print(False or True)\n",
    "print(True or False)\n",
    "print(False or False)\n",
    "print(not True)    #Logical not\n",
    "print(not False)"
   ]
  },
  {
   "cell_type": "code",
   "execution_count": 12,
   "id": "1ab67c68",
   "metadata": {
    "scrolled": true
   },
   "outputs": [
    {
     "name": "stdout",
     "output_type": "stream",
     "text": [
      "False\n",
      "True\n",
      "True\n",
      "-2\n",
      "0\n",
      "4\n"
     ]
    }
   ],
   "source": [
    "#Question - 7  (Bitwise Operators)\n",
    "print(True & False)  #bitwise & (and)\n",
    "print(True | False)  #bitwise | (or)\n",
    "print(True ^ False)  #bitwise ^ (not)\n",
    "print( ~True)    #bitwise ~ (negation)\n",
    "print(True >> 2)  #bitwise >> (right shift)\n",
    "print(True << 2)  #bitwise <<  (Left shift)"
   ]
  },
  {
   "cell_type": "code",
   "execution_count": 13,
   "id": "7e483e67",
   "metadata": {},
   "outputs": [
    {
     "name": "stdout",
     "output_type": "stream",
     "text": [
      "True\n",
      "False\n"
     ]
    }
   ],
   "source": [
    "#Question - 8 (Identity operators on bollean values)\n",
    "a = True\n",
    "b = True\n",
    "print(a is b)\n",
    "print(a is not b)"
   ]
  },
  {
   "cell_type": "code",
   "execution_count": 14,
   "id": "e5e1963c",
   "metadata": {},
   "outputs": [
    {
     "name": "stdout",
     "output_type": "stream",
     "text": [
      "True\n",
      "False\n"
     ]
    }
   ],
   "source": [
    "#Question - 9  (Identity operators on bollean values)\n",
    "a = False\n",
    "b = False\n",
    "print(a is b)\n",
    "print(a is not b)"
   ]
  },
  {
   "cell_type": "code",
   "execution_count": 15,
   "id": "c0a3d8fd",
   "metadata": {},
   "outputs": [
    {
     "name": "stdout",
     "output_type": "stream",
     "text": [
      "True\n",
      "True\n",
      "True\n",
      "True\n",
      "True\n"
     ]
    }
   ],
   "source": [
    "#Question - 10  (Membership operations)\n",
    "print(True in [10,10.20,10+20j,'Python', True])\n",
    "print(False in (10,10.20,10+20j,'Python', False))\n",
    "print(True in {1,2,3, True})\n",
    "print(True in {True:100, False:200, True:300})\n",
    "print(False in {True:100, False:200, True:300})"
   ]
  },
  {
   "cell_type": "code",
   "execution_count": null,
   "id": "2513479a",
   "metadata": {},
   "outputs": [],
   "source": []
  }
 ],
 "metadata": {
  "kernelspec": {
   "display_name": "Python 3 (ipykernel)",
   "language": "python",
   "name": "python3"
  },
  "language_info": {
   "codemirror_mode": {
    "name": "ipython",
    "version": 3
   },
   "file_extension": ".py",
   "mimetype": "text/x-python",
   "name": "python",
   "nbconvert_exporter": "python",
   "pygments_lexer": "ipython3",
   "version": "3.11.4"
  }
 },
 "nbformat": 4,
 "nbformat_minor": 5
}
