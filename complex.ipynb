{
 "cells": [
  {
   "cell_type": "code",
   "execution_count": 12,
   "id": "41d23edf",
   "metadata": {},
   "outputs": [
    {
     "name": "stdout",
     "output_type": "stream",
     "text": [
      "<class 'complex'>\n",
      "2161054869904\n"
     ]
    }
   ],
   "source": [
    "#Question - 1\n",
    "num1 = 20+30j\n",
    "print(type(num1))\n",
    "print(id(num1))"
   ]
  },
  {
   "cell_type": "code",
   "execution_count": 14,
   "id": "949465ab",
   "metadata": {},
   "outputs": [
    {
     "name": "stdout",
     "output_type": "stream",
     "text": [
      "(35+36j)\n",
      "(15-24j)\n",
      "(70+810j)\n",
      "(0.42999999999999994-0.69j)\n",
      "(77363233705.96121-74897812435.10268j)\n"
     ]
    }
   ],
   "source": [
    "#Question - 2 ( Arithmetic Operations on complex)\n",
    "a_c = 25+6j\n",
    "b_c = 10+30j\n",
    "print(a_c+b_c) #addition\n",
    "print(a_c-b_c) #difference\n",
    "print(a_c*b_c) #multiplication\n",
    "print(a_c/b_c) #division\n",
    "print(a_c**b_c)"
   ]
  },
  {
   "cell_type": "code",
   "execution_count": 20,
   "id": "e61bac4d",
   "metadata": {},
   "outputs": [
    {
     "name": "stdout",
     "output_type": "stream",
     "text": [
      "2161054872560\n",
      "2161054866224\n"
     ]
    },
    {
     "ename": "TypeError",
     "evalue": "'>' not supported between instances of 'complex' and 'complex'",
     "output_type": "error",
     "traceback": [
      "\u001b[1;31m---------------------------------------------------------------------------\u001b[0m",
      "\u001b[1;31mTypeError\u001b[0m                                 Traceback (most recent call last)",
      "Cell \u001b[1;32mIn[20], line 6\u001b[0m\n\u001b[0;32m      4\u001b[0m \u001b[38;5;28mprint\u001b[39m(\u001b[38;5;28mid\u001b[39m(num1))    \u001b[38;5;66;03m# if we observe the id's are also different for same values also\u001b[39;00m\n\u001b[0;32m      5\u001b[0m \u001b[38;5;28mprint\u001b[39m(\u001b[38;5;28mid\u001b[39m(num2))\n\u001b[1;32m----> 6\u001b[0m \u001b[38;5;28mprint\u001b[39m(num1\u001b[38;5;241m>\u001b[39mnum2)\n",
      "\u001b[1;31mTypeError\u001b[0m: '>' not supported between instances of 'complex' and 'complex'"
     ]
    }
   ],
   "source": [
    "#Question - 3 \n",
    "num1 = 15+25j\n",
    "num2 = 15+25j\n",
    "print(id(num1))    # if we observe the id's are also different for same values also\n",
    "print(id(num2))\n",
    "print(num1>num2)  #if we observe this comparison operation is not applicable for complex numbers\n",
    "                  # ie : object reusability concept is not applicalbe "
   ]
  },
  {
   "cell_type": "code",
   "execution_count": 21,
   "id": "06ef89b1",
   "metadata": {
    "scrolled": true
   },
   "outputs": [
    {
     "name": "stdout",
     "output_type": "stream",
     "text": [
      "True\n",
      "False\n"
     ]
    }
   ],
   "source": [
    "#Question - 4 (Equality Operators on complex numbers)\n",
    "num1 = 56+39j\n",
    "num2 = 56+39j\n",
    "print(num1 == num2)\n",
    "print(num1 != num2)"
   ]
  },
  {
   "cell_type": "code",
   "execution_count": 22,
   "id": "eb22219e",
   "metadata": {},
   "outputs": [
    {
     "name": "stdout",
     "output_type": "stream",
     "text": [
      "(20+30j)\n",
      "0j\n",
      "0j\n",
      "0j\n",
      "(10+20j)\n",
      "(20+30j)\n",
      "(20+30j)\n",
      "0j\n",
      "False\n",
      "True\n"
     ]
    }
   ],
   "source": [
    "#Question - 5  (Logical operators on complex numbers)\n",
    "print(10+20j and 20+30j)\n",
    "print(0+0j and 20+30j)\n",
    "print(20+30j and 0+0j)\n",
    "print(0+0j and 0+0j)\n",
    "\n",
    "print(10+20j or 20+30j)\n",
    "print(0+0j or 20+30j)\n",
    "print(20+30j or 0+0j)\n",
    "print(0+0j or 0+0j)\n",
    "\n",
    "print(not 10+20j)\n",
    "print(not 0+0j)"
   ]
  },
  {
   "cell_type": "code",
   "execution_count": 23,
   "id": "7e483e67",
   "metadata": {},
   "outputs": [
    {
     "name": "stdout",
     "output_type": "stream",
     "text": [
      "False\n",
      "True\n"
     ]
    }
   ],
   "source": [
    "#Question - 6 (Identity operators on complex numbers)\n",
    "a = 10+20j\n",
    "b = 10+20j\n",
    "print(a is b)\n",
    "print(a is not b)"
   ]
  },
  {
   "cell_type": "code",
   "execution_count": 25,
   "id": "2513479a",
   "metadata": {},
   "outputs": [
    {
     "name": "stdout",
     "output_type": "stream",
     "text": [
      "True\n",
      "True\n",
      "True\n",
      "True\n",
      "True\n",
      "True\n"
     ]
    }
   ],
   "source": [
    "#Question - 7 (Membership operation)\n",
    "print('2.7' in 'Python2.7.8')\n",
    "print(10+20j in [10,10.20,10+20j,'Python'])\n",
    "print(10+20j in (10,10.20,10+20j,'Python'))\n",
    "print(30+40j in {1,20.30,30+40j})\n",
    "print(30+40j in {1:100, 2.3:200, 30+40j:300})\n",
    "print(10 in range(20))"
   ]
  }
 ],
 "metadata": {
  "kernelspec": {
   "display_name": "Python 3 (ipykernel)",
   "language": "python",
   "name": "python3"
  },
  "language_info": {
   "codemirror_mode": {
    "name": "ipython",
    "version": 3
   },
   "file_extension": ".py",
   "mimetype": "text/x-python",
   "name": "python",
   "nbconvert_exporter": "python",
   "pygments_lexer": "ipython3",
   "version": "3.11.4"
  }
 },
 "nbformat": 4,
 "nbformat_minor": 5
}
