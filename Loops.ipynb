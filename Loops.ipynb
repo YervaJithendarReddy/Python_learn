{
 "cells": [
  {
   "cell_type": "code",
   "execution_count": 1,
   "id": "2c45b021",
   "metadata": {},
   "outputs": [
    {
     "name": "stdout",
     "output_type": "stream",
     "text": [
      "55\n"
     ]
    }
   ],
   "source": [
    "#Question - 1\n",
    "a = 'Write a Python program to find the length of the my_str'\n",
    "count = 0\n",
    "\n",
    "for i in a:\n",
    "    count += 1\n",
    "print(count)"
   ]
  },
  {
   "cell_type": "code",
   "execution_count": 11,
   "id": "41394e46",
   "metadata": {},
   "outputs": [
    {
     "name": "stdout",
     "output_type": "stream",
     "text": [
      "9\n"
     ]
    }
   ],
   "source": [
    "# Question -2\n",
    "a = \"peter piper picked a peck of pickled peppers.\"\n",
    "c=0\n",
    "for i in a:\n",
    "    if i==\"p\":\n",
    "        c+=1\n",
    "print(c)"
   ]
  },
  {
   "cell_type": "code",
   "execution_count": 2,
   "id": "fc6e1ff2",
   "metadata": {},
   "outputs": [
    {
     "name": "stdout",
     "output_type": "stream",
     "text": [
      "0\n",
      "6\n",
      "8\n",
      "12\n",
      "21\n",
      "29\n",
      "37\n",
      "39\n",
      "40\n"
     ]
    }
   ],
   "source": [
    "# Question - 3\n",
    "a = \"peter piper picked a peck of pickled peppers.\"\n",
    "c=0\n",
    "for i in range(len(a)):\n",
    "    if a[i]=='p':\n",
    "        print(i)"
   ]
  },
  {
   "cell_type": "code",
   "execution_count": 8,
   "id": "95e25459",
   "metadata": {},
   "outputs": [
    {
     "name": "stdout",
     "output_type": "stream",
     "text": [
      "['peter', 'piper', 'picked', 'a', 'peck', 'of', 'pickled', 'peppers']\n"
     ]
    }
   ],
   "source": [
    "# Question - 4\n",
    "a = \"peter piper picked a peck of pickled peppers.\"\n",
    "b=''\n",
    "c=[]\n",
    "\n",
    "for i in a:\n",
    "    if i!=' ' and i!='.':\n",
    "        b+=i\n",
    "    else:\n",
    "        c.append(b)\n",
    "        b=''\n",
    "if b:\n",
    "    c.append(b)\n",
    "    \n",
    "print(c)"
   ]
  },
  {
   "cell_type": "code",
   "execution_count": 10,
   "id": "da6baffd",
   "metadata": {},
   "outputs": [
    {
     "name": "stdout",
     "output_type": "stream",
     "text": [
      "peppers pickled of peck a picked piper peter\n"
     ]
    }
   ],
   "source": [
    "# Question - 5\n",
    "a = \"peter piper picked a peck of pickled peppers.\"\n",
    "b=''\n",
    "c=[]\n",
    "\n",
    "for i in a:\n",
    "    if i!=' ' and i!='.':\n",
    "        b+=i\n",
    "    else:\n",
    "        c.append(b)\n",
    "        b=''\n",
    "if b:\n",
    "    c.append(b)\n",
    "    \n",
    "d=c[::-1]\n",
    "e=' '.join(d)\n",
    "print(e)"
   ]
  },
  {
   "cell_type": "code",
   "execution_count": 13,
   "id": "15b077d6",
   "metadata": {},
   "outputs": [
    {
     "name": "stdout",
     "output_type": "stream",
     "text": [
      ".sreppep delkcip fo kcep a dekcip repip retep\n"
     ]
    }
   ],
   "source": [
    "# Question - 6\n",
    "a = \"peter piper picked a peck of pickled peppers.\"\n",
    "b=''\n",
    "\n",
    "for i in range(-1,-(len(a)+1),-1):\n",
    "    b+=a[i]\n",
    "print(b)"
   ]
  },
  {
   "cell_type": "code",
   "execution_count": 17,
   "id": "3b8f89e9",
   "metadata": {},
   "outputs": [
    {
     "name": "stdout",
     "output_type": "stream",
     "text": [
      "retep repip dekcip a kcep fo delkcip sreppep\n"
     ]
    }
   ],
   "source": [
    "# Question - 7\n",
    "a = \"peter piper picked a peck of pickled peppers.\"\n",
    "b=''\n",
    "c=[]\n",
    "\n",
    "for i in a:\n",
    "    if i!=' ' and i!='.':\n",
    "        b=i+b\n",
    "    else:\n",
    "        c.append(b)\n",
    "        b=''\n",
    "if b:\n",
    "    c.append(b)\n",
    "\n",
    "d=' '.join(c)\n",
    "print(d)"
   ]
  },
  {
   "cell_type": "code",
   "execution_count": 4,
   "id": "48c8c93c",
   "metadata": {},
   "outputs": [
    {
     "name": "stdout",
     "output_type": "stream",
     "text": [
      "Peter Piper Picked A Peck Of Pickled Peppers.\n"
     ]
    }
   ],
   "source": [
    "# Question - 8\n",
    "a = \"peter piper picked a peck of pickled peppers.\"\n",
    "b=''\n",
    "c=[]\n",
    "\n",
    "for i in a:\n",
    "    if i==' ':\n",
    "        b=b.capitalize()\n",
    "        c.append(b)\n",
    "        b=''\n",
    "    else:\n",
    "        b+=i\n",
    "b=b.capitalize()\n",
    "c.append(b)\n",
    "d=' '.join(c)\n",
    "\n",
    "print(d)"
   ]
  },
  {
   "cell_type": "code",
   "execution_count": 13,
   "id": "874619c3",
   "metadata": {},
   "outputs": [
    {
     "name": "stdout",
     "output_type": "stream",
     "text": [
      "Peter piper picked a peck of pickled peppers.\n"
     ]
    }
   ],
   "source": [
    "# Question - 9\n",
    "a = \"Peter Piper Picked A Peck Of Pickled Peppers.\"\n",
    "\n",
    "for i in range(len(a)):\n",
    "    if i==0:\n",
    "        b=a[0].upper()\n",
    "    else:\n",
    "        b=b+a[i].lower()\n",
    "print(b)"
   ]
  },
  {
   "cell_type": "code",
   "execution_count": 14,
   "id": "b2b8d5c6",
   "metadata": {},
   "outputs": [
    {
     "name": "stdout",
     "output_type": "stream",
     "text": [
      "29\n"
     ]
    }
   ],
   "source": [
    "# Question - 10\n",
    "a = \"Peter Piper Picked A Peck Of Pickled Peppers.\"\n",
    "b = 'Pickl'\n",
    "\n",
    "for i in range(len(a)):\n",
    "    if a[i]==b[0]:\n",
    "        for j in range(1,len(b)):\n",
    "            if a[i+j]!=b[j]:\n",
    "                j=j-1\n",
    "                break\n",
    "    if j==len(b)-1:\n",
    "        print(i)\n",
    "        break\n",
    "        "
   ]
  },
  {
   "cell_type": "code",
   "execution_count": 15,
   "id": "21cb6d8b",
   "metadata": {},
   "outputs": [
    {
     "name": "stdout",
     "output_type": "stream",
     "text": [
      "Peter Piper Picked A Pack Of Pickled Peppers.\n"
     ]
    }
   ],
   "source": [
    "# Question - 11\n",
    "a = \"Peter Piper Picked A Peck Of Pickled Peppers.\"\n",
    "b = \"Peck\"\n",
    "c = \"Pack\"\n",
    "n = len(b)\n",
    "j = 0\n",
    "d = ''\n",
    "\n",
    "for i in range(len(a)):\n",
    "    if a[i]==b[0]:\n",
    "        for j in range(1,len(b)):\n",
    "            if a[i+j]!=b[j]:\n",
    "                j=j-1\n",
    "                break\n",
    "    if j==len(b)-1:\n",
    "        d=a[0:i]+c+a[i+n::]\n",
    "        break\n",
    "print(d)\n"
   ]
  },
  {
   "cell_type": "code",
   "execution_count": 17,
   "id": "cdc11f4e",
   "metadata": {},
   "outputs": [
    {
     "name": "stdout",
     "output_type": "stream",
     "text": [
      "*********************Peck********************\n"
     ]
    }
   ],
   "source": [
    "# Question - 12\n",
    "a = \"Peter Piper Picked A Peck Of Pickled Peppers.\"\n",
    "b = \"Peck\"\n",
    "d = \"\"\n",
    "j = 0\n",
    "n = len(a)-len(b)\n",
    "\n",
    "for i in range(len(a)):\n",
    "    if a[i]==b[0]:\n",
    "        for j in range(1,len(b)):\n",
    "            if a[i+j]!=b[j]:\n",
    "                j=j-1\n",
    "                break\n",
    "    if j==len(b)-1:\n",
    "        d=\"*\"*i+b+\"*\"*(n-i)\n",
    "        break\n",
    "print(d)"
   ]
  },
  {
   "cell_type": "code",
   "execution_count": 51,
   "id": "711d217e",
   "metadata": {},
   "outputs": [
    {
     "name": "stdout",
     "output_type": "stream",
     "text": [
      "['This is', ' is', ' Python class']\n"
     ]
    }
   ],
   "source": [
    "# Question - 13\n",
    "a = 'This is Python class'\n",
    "b = \" is\"\n",
    "d = []\n",
    "n = len(b)\n",
    "j = 0\n",
    "\n",
    "for i in range(len(a)):\n",
    "    if a[i]==b[0]:\n",
    "        for j in range(1,len(b)):\n",
    "            if a[i+j]==b[j]:\n",
    "                j=j-1\n",
    "                break\n",
    "    if j==len(b)-1:\n",
    "        d.append(a[0:i])\n",
    "        d.append(b)\n",
    "        d.append(a[i:])\n",
    "        break\n",
    "print(d)"
   ]
  }
 ],
 "metadata": {
  "kernelspec": {
   "display_name": "Python 3 (ipykernel)",
   "language": "python",
   "name": "python3"
  },
  "language_info": {
   "codemirror_mode": {
    "name": "ipython",
    "version": 3
   },
   "file_extension": ".py",
   "mimetype": "text/x-python",
   "name": "python",
   "nbconvert_exporter": "python",
   "pygments_lexer": "ipython3",
   "version": "3.11.4"
  }
 },
 "nbformat": 4,
 "nbformat_minor": 5
}
