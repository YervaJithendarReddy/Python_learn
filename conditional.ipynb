{
 "cells": [
  {
   "cell_type": "code",
   "execution_count": 12,
   "id": "a4b56ab6",
   "metadata": {},
   "outputs": [
    {
     "name": "stdout",
     "output_type": "stream",
     "text": [
      "Enter a number: 1\n",
      "One\n"
     ]
    }
   ],
   "source": [
    "#Question - 1\n",
    "num1 = int(input(\"Enter a number: \"))\n",
    "if num1 == 0:\n",
    "    print(\"Zero\")\n",
    "elif num1 == 1:\n",
    "    print(\"One\")\n",
    "elif num1 == 2:\n",
    "    print(\"Two\")\n",
    "elif num1 == 3:\n",
    "    print(\"Three\")\n",
    "elif num1 == 4:\n",
    "    print(\"Four\")\n",
    "elif num1 == 5:\n",
    "    print(\"Five\")\n",
    "elif num1 == 6:\n",
    "    print(\"Six\")\n",
    "elif num1 == 7:\n",
    "    print(\"Seven\")\n",
    "elif num1 == 8:\n",
    "    print(\"Eight\")\n",
    "elif num1 == 9:\n",
    "    print(\"Nine\")\n",
    "else:\n",
    "    print(\"Number is outside the range\")\n"
   ]
  },
  {
   "cell_type": "code",
   "execution_count": 20,
   "id": "4235ed88",
   "metadata": {},
   "outputs": [
    {
     "name": "stdout",
     "output_type": "stream",
     "text": [
      "Enter 1st number: 5\n",
      "Enter 2nd number: 5\n",
      "Please select any of operation below:- \n",
      "              * To add enter 1\n",
      "              * to subtract enter 2\n",
      "              * To multiply enter 3\n",
      "              * To divide enter 4\n",
      "              * To divide and find quotient enter 5\n",
      "              * To divide and find remainder enter 6\n",
      "              * To find num1 to the power of num2 enter 7 \n",
      "5\n",
      "int_Div:  1\n"
     ]
    }
   ],
   "source": [
    "#Question - 2\n",
    "num1 = int(input(\"Enter 1st number: \"))\n",
    "num2 = int(input(\"Enter 2nd number: \"))\n",
    "a = int(input('''Please select any of operation below:- \n",
    "              * To add enter 1\n",
    "              * to subtract enter 2\n",
    "              * To multiply enter 3\n",
    "              * To divide enter 4\n",
    "              * To divide and find quotient enter 5\n",
    "              * To divide and find remainder enter 6\n",
    "              * To find num1 to the power of num2 enter 7 \\n'''))\n",
    "if a == 1:\n",
    "    print(\"Add: \",num1+num2)\n",
    "elif a == 2:\n",
    "    print(\"Sub: \",num1-num2)\n",
    "elif a == 3:\n",
    "    print(\"Mul: \",num1*num2)\n",
    "elif a == 4:\n",
    "    print(\"Div: \",num1/num2)\n",
    "elif a == 5:\n",
    "    print(\"int_Div: \",num1//num2)\n",
    "elif a == 6:\n",
    "    print(\"Reminder: \",num1%num2)\n",
    "elif a == 7:\n",
    "    print(\"Power of : \",num1**num2)\n",
    "else: \n",
    "    print(\"Please Enter a valid number\")"
   ]
  },
  {
   "cell_type": "code",
   "execution_count": 26,
   "id": "e00519f1",
   "metadata": {},
   "outputs": [
    {
     "name": "stdout",
     "output_type": "stream",
     "text": [
      "Enter a year: 2006\n",
      "2006 is not a leap year\n"
     ]
    }
   ],
   "source": [
    "#Question - 3\n",
    "year = int(input(\"Enter a year: \"))\n",
    "\n",
    "if year%400==0 and year%100==0:\n",
    "    print(f\"{year} is a leap year\")\n",
    "elif year%4==0 and year%100!=0:\n",
    "    print(f\"{year} is a leap year\")\n",
    "else:\n",
    "    print(f\"{year} is not a leap year\")\n",
    "#  leap year:- 2012, 1968, 2004, 1200, 1600,2400\n",
    "#  Non-lear year:- 1971, 2006, 1700,1800,1900\n",
    "    "
   ]
  },
  {
   "cell_type": "code",
   "execution_count": 29,
   "id": "4c2ad6b2",
   "metadata": {},
   "outputs": [
    {
     "name": "stdout",
     "output_type": "stream",
     "text": [
      "Enter a number: 25\n",
      "25.0 is a Odd number\n"
     ]
    }
   ],
   "source": [
    "# Question - 4\n",
    "num = float(input(\"Enter a number: \"))\n",
    "\n",
    "if num%2==0:\n",
    "    print(f\"{num} is a Even number\")\n",
    "else:\n",
    "    print(f\"{num} is a Odd number\")"
   ]
  },
  {
   "cell_type": "code",
   "execution_count": 30,
   "id": "4bd5be35",
   "metadata": {},
   "outputs": [
    {
     "name": "stdout",
     "output_type": "stream",
     "text": [
      "Enter 1st number: 5\n",
      "Enter 2nd number: 4\n",
      "5 is greater than 4\n"
     ]
    }
   ],
   "source": [
    "#Question - 5\n",
    "num1 = int(input(\"Enter 1st number: \"))\n",
    "num2 = int(input(\"Enter 2nd number: \"))\n",
    "\n",
    "if num1>num2:\n",
    "    print(f\"{num1} is greater than {num2}\")\n",
    "elif num2>num1:\n",
    "    print(f\"{num1} is smaller than {num2}\")\n",
    "else:\n",
    "    print(f\"{num1} is equal to {num2}\")"
   ]
  },
  {
   "cell_type": "code",
   "execution_count": 37,
   "id": "8b0339a0",
   "metadata": {},
   "outputs": [
    {
     "name": "stdout",
     "output_type": "stream",
     "text": [
      "Enter 1st number: 5\n",
      "Enter 2nd number: 5\n",
      "5 is equal to 5\n"
     ]
    }
   ],
   "source": [
    "#using Ternary operator\n",
    "num1 = int(input(\"Enter 1st number: \"))\n",
    "num2 = int(input(\"Enter 2nd number: \"))\n",
    "\n",
    "print(f\"{num1} is greater than {num2}\") if num1>num2 else print(f\"{num1} is smaller than {num2}\") if num2>num1 else print(f\"{num1} is equal to {num2}\") "
   ]
  },
  {
   "cell_type": "code",
   "execution_count": 38,
   "id": "69356841",
   "metadata": {},
   "outputs": [
    {
     "name": "stdout",
     "output_type": "stream",
     "text": [
      "Enter 1st number: 25\n",
      "Enter 2nd number: 25\n",
      "Enter 3rd number: 50\n",
      "50 is greater than 25 and 25\n"
     ]
    }
   ],
   "source": [
    "# Question - 6\n",
    "num1 = int(input(\"Enter 1st number: \"))\n",
    "num2 = int(input(\"Enter 2nd number: \"))\n",
    "num3 = int(input('Enter 3rd number: '))\n",
    "\n",
    "if num1>num2 and num1>num3:\n",
    "    print(f\"{num1} is greater than {num2} and {num3}\")\n",
    "elif num2>num1 and num2>num3:\n",
    "    print(f\"{num2} is greater than {num3} and {num3}\")\n",
    "elif num3>num1 and num3>num2:\n",
    "    print(f\"{num3} is greater than {num1} and {num2}\")"
   ]
  },
  {
   "cell_type": "code",
   "execution_count": 39,
   "id": "20b983ba",
   "metadata": {},
   "outputs": [
    {
     "name": "stdout",
     "output_type": "stream",
     "text": [
      "Enter 1st number: 25\n",
      "Enter 2nd number: 25\n",
      "Enter 3rd number: 52\n",
      "52 is greater than 25 and 25\n"
     ]
    }
   ],
   "source": [
    "#Ternary Operator\n",
    "num1 = int(input(\"Enter 1st number: \"))\n",
    "num2 = int(input(\"Enter 2nd number: \"))\n",
    "num3 = int(input('Enter 3rd number: '))\n",
    "\n",
    "print(f\"{num1} is greater than {num2} and {num3}\") if num1>num2 and num1>num3 else  print(f\"{num2} is greater than {num3} and {num3}\") if num2>num1 and num2>num3 else print(f\"{num3} is greater than {num1} and {num2}\") "
   ]
  },
  {
   "cell_type": "code",
   "execution_count": 43,
   "id": "9f9d8f4d",
   "metadata": {},
   "outputs": [
    {
     "name": "stdout",
     "output_type": "stream",
     "text": [
      "Enter 1st number: 5\n",
      "Enter 2nd number: 255\n",
      "255\n"
     ]
    }
   ],
   "source": [
    "num1 = int(input(\"Enter 1st number: \"))\n",
    "num2 = int(input(\"Enter 2nd number: \"))\n",
    "\n",
    "num1 = num1 if num1>num2 else num2\n",
    "print(num1)"
   ]
  }
 ],
 "metadata": {
  "kernelspec": {
   "display_name": "Python 3 (ipykernel)",
   "language": "python",
   "name": "python3"
  },
  "language_info": {
   "codemirror_mode": {
    "name": "ipython",
    "version": 3
   },
   "file_extension": ".py",
   "mimetype": "text/x-python",
   "name": "python",
   "nbconvert_exporter": "python",
   "pygments_lexer": "ipython3",
   "version": "3.11.4"
  }
 },
 "nbformat": 4,
 "nbformat_minor": 5
}
