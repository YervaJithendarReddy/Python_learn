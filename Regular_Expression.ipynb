{
 "cells": [
  {
   "cell_type": "code",
   "execution_count": 71,
   "metadata": {
    "id": "xMLU30SQxZCH"
   },
   "outputs": [
    {
     "name": "stdout",
     "output_type": "stream",
     "text": [
      "<re.Match object; span=(0, 3), match='Cat'>\n"
     ]
    }
   ],
   "source": [
    "#Write the regular expression and use proper method which gives output as:- 'cat' in str.\n",
    "import re\n",
    "str = 'Cat mat bat rat'\n",
    "pat = r'[A-Za-z]{3}'\n",
    "a = re.match(pat,str)\n",
    "print(a)"
   ]
  },
  {
   "cell_type": "code",
   "execution_count": 72,
   "metadata": {
    "id": "zMiSTGMHx6Dv"
   },
   "outputs": [
    {
     "name": "stdout",
     "output_type": "stream",
     "text": [
      "<re.Match object; span=(12, 15), match='rat'>\n"
     ]
    }
   ],
   "source": [
    "#Write the regular expression and use proper method which gives output as:- 'rat' in str.\n",
    "import re\n",
    "str = 'cat mat bat rat'\n",
    "pat = r\"[r][a-z]{2}\"\n",
    "a = re.search(pat,str)\n",
    "print(a)"
   ]
  },
  {
   "cell_type": "code",
   "execution_count": 73,
   "metadata": {
    "id": "qBoYFjf5x6Mm"
   },
   "outputs": [
    {
     "name": "stdout",
     "output_type": "stream",
     "text": [
      "['mat', 'man']\n"
     ]
    }
   ],
   "source": [
    "#Write the regular expression and use proper method which gives output as:- ['mat', 'man'] in str.\n",
    "import re\n",
    "str = 'cat mat bat rat man'\n",
    "pat = r\"[m][a-z]{2}\"\n",
    "a = re.findall(pat,str)\n",
    "print(a)"
   ]
  },
  {
   "cell_type": "code",
   "execution_count": 7,
   "metadata": {
    "id": "qmxmqzX_x6QR"
   },
   "outputs": [
    {
     "name": "stdout",
     "output_type": "stream",
     "text": [
      "<callable_iterator object at 0x000001DD517329B0>\n"
     ]
    }
   ],
   "source": [
    "#Write the regular expression and use proper method which gives output as:- \n",
    "#['Python', 's', 'Programming', 'is', 'very', 'easy', 'to', 'learn'] in str.\n",
    "import re\n",
    "str = \"Python's Programming: is very easy to learn\"\n",
    "pat = r\"[A-Za-z]+\"\n",
    "a = re.finditer(pat,str)\n",
    "print(a)"
   ]
  },
  {
   "cell_type": "code",
   "execution_count": 9,
   "metadata": {
    "id": "LxGl1o7px6Vi"
   },
   "outputs": [
    {
     "name": "stdout",
     "output_type": "stream",
     "text": [
      "Python Programming: is very easy to learn\n"
     ]
    }
   ],
   "source": [
    "#Write the regular expression and use proper method which gives output as:- Python Programming: is very easy to learn in str.\n",
    "import re\n",
    "str = \"Python's Programming: is very easy to learn\"\n",
    "a = re.sub(r\"Python's\", \"Python\", str)\n",
    "print(a)"
   ]
  },
  {
   "cell_type": "code",
   "execution_count": 76,
   "metadata": {
    "id": "9uIpb614x6Yb"
   },
   "outputs": [
    {
     "name": "stdout",
     "output_type": "stream",
     "text": [
      "['peter', 'per', 'picked', 'peck', 'pickled', 'peppers']\n"
     ]
    }
   ],
   "source": [
    "#Write the regular expression and use proper method which Retrieves all words starting with p.\n",
    "#Output:- ['peter', 'per', 'picked', 'peck', 'pickled', 'peppers']\n",
    "import re\n",
    "str = \"peter giper picked a peck of pickled peppers\"\n",
    "pat = r\"[p][A-Za-z]+\"\n",
    "a = re.findall(pat,str)\n",
    "print(a)"
   ]
  },
  {
   "cell_type": "code",
   "execution_count": 77,
   "metadata": {
    "id": "N0vFkePdx6bN"
   },
   "outputs": [
    {
     "name": "stdout",
     "output_type": "stream",
     "text": [
      "['peter', 'picked', 'peck', 'pickled', 'peppers']\n"
     ]
    }
   ],
   "source": [
    "#Write the regular expression and use proper method which Retrieves all words starting with p except 'per' which is not a separate word.\n",
    "#Output:- ['peter', 'picked', 'peck', 'pickled', 'peppers']\n",
    "import re\n",
    "str = \"peter giper picked a peck of pickled peppers\"\n",
    "pat = r\"[p][A-Za-z]{3,}\"\n",
    "a = re.findall(pat,str)\n",
    "print(a)"
   ]
  },
  {
   "cell_type": "code",
   "execution_count": 78,
   "metadata": {
    "id": "mbiypO3yx6eE"
   },
   "outputs": [
    {
     "name": "stdout",
     "output_type": "stream",
     "text": [
      "['8th', '11th']\n"
     ]
    }
   ],
   "source": [
    "#Write the regular expression and use proper method which Retrieves all words starting with a digit.\n",
    "#Output:- ['8th', '11th']\n",
    "import re\n",
    "str = 'The election in delhi will be held on 8th and result for the same will be declared on 11th'\n",
    "pat = r\"[0-9]+[A-Za-z]+\"\n",
    "a = re.findall(pat,str)\n",
    "print(a)"
   ]
  },
  {
   "cell_type": "code",
   "execution_count": 79,
   "metadata": {
    "id": "6ZUWWd6bx6g8"
   },
   "outputs": [
    {
     "name": "stdout",
     "output_type": "stream",
     "text": [
      "['peter', 'giper']\n"
     ]
    }
   ],
   "source": [
    "#Write the regular expression and use proper method which Retrieves all words having 5 characters.\n",
    "#Output:- ['peter', 'giper']\n",
    "import re\n",
    "str = \"peter giper picked a peck of pickled peppers\"\n",
    "pat = r\"\\b[A-Za-z]{5}\\b\"\n",
    "a = re.findall(pat,str)\n",
    "print(a)"
   ]
  },
  {
   "cell_type": "code",
   "execution_count": 80,
   "metadata": {
    "id": "syuXvEXox6jt"
   },
   "outputs": [
    {
     "name": "stdout",
     "output_type": "stream",
     "text": [
      "['Retrieving', 'words', 'having', 'least', 'characters']\n"
     ]
    }
   ],
   "source": [
    "#Write the regular expression and use proper method which Retrieves all words having at least 4 characters.\n",
    "#Output:- ['Retrieving',  'words', 'having', 'least', 'characters']\n",
    "import re\n",
    "str = \"Retrieving all words having at least 4 characters\"\n",
    "pat = r\"\\b[A-Za-z]{4,}\\b\"\n",
    "a = re.findall(pat,str)\n",
    "print(a)"
   ]
  },
  {
   "cell_type": "code",
   "execution_count": 83,
   "metadata": {
    "id": "MtXo1Hf8x6ma"
   },
   "outputs": [
    {
     "name": "stdout",
     "output_type": "stream",
     "text": [
      "['all', 'words', 'least']\n"
     ]
    }
   ],
   "source": [
    "#Write the regular expression and use proper method which Retrieves all words having at characters between 3 to 5 words.\n",
    "#Output:- ['all', 'words', 'least']\n",
    "import re\n",
    "str = \"Retrieving all words having at least 4 characters\"\n",
    "pat = r\"\\b[A-Za-z]{3,5}\\b\"\n",
    "a = re.findall(pat,str)\n",
    "print(a)"
   ]
  },
  {
   "cell_type": "code",
   "execution_count": 85,
   "metadata": {
    "id": "RlvMct7xx6pE"
   },
   "outputs": [
    {
     "name": "stdout",
     "output_type": "stream",
     "text": [
      "['8', '11']\n"
     ]
    }
   ],
   "source": [
    "#Write the regular expression and use proper method which Retrieves only digits from the string.\n",
    "#Output:- ['8', '11']\n",
    "import re\n",
    "str = 'The election in delhi will be held on 8 and result for the same will be declared on 11'\n",
    "pat = r\"\\d+\"\n",
    "a = re.findall(pat,str)\n",
    "print(a)"
   ]
  },
  {
   "cell_type": "code",
   "execution_count": 87,
   "metadata": {
    "id": "wdD4cSyJx6us"
   },
   "outputs": [
    {
     "name": "stdout",
     "output_type": "stream",
     "text": [
      "['characters']\n"
     ]
    }
   ],
   "source": [
    "#Write the regular expression and use proper method which Retrieves last word if starts with c from the given string.\n",
    "#Output:- ['characters']\n",
    "import re\n",
    "str = \"Retrieving all words having at least 4 characters\"\n",
    "pat = r\"[c][A-Za-z]+$\"\n",
    "a = re.findall(pat,str)\n",
    "print(a)"
   ]
  },
  {
   "cell_type": "code",
   "execution_count": 88,
   "metadata": {
    "id": "HsVGzJVbx6sl"
   },
   "outputs": [
    {
     "name": "stdout",
     "output_type": "stream",
     "text": [
      "['1234567890']\n"
     ]
    }
   ],
   "source": [
    "#Write the regular expression and use proper method which Retrieves a phone number from the given string.\n",
    "#Output:- 1234567890\n",
    "import re\n",
    "str = \"Learnbay : 1234567890\"\n",
    "pat = r\"\\b\\d+\"\n",
    "a = re.findall(pat,str)\n",
    "print(a)"
   ]
  },
  {
   "cell_type": "code",
   "execution_count": 96,
   "metadata": {
    "id": "LvG3jTtvyQKk"
   },
   "outputs": [
    {
     "name": "stdout",
     "output_type": "stream",
     "text": [
      "['Learnbay :']\n"
     ]
    }
   ],
   "source": [
    "##Write the regular expression and use proper method which Etracts name from the string but not number.\n",
    "#Output:- Learnbay : \n",
    "import re\n",
    "str = \"Learnbay : 1234567890\"\n",
    "pat = r\"[A-Za-z]+\\s[:]+\"\n",
    "a = re.findall(pat,str)\n",
    "print(a)"
   ]
  },
  {
   "cell_type": "code",
   "execution_count": 104,
   "metadata": {
    "id": "drArGXgKyQNz"
   },
   "outputs": [
    {
     "name": "stdout",
     "output_type": "stream",
     "text": [
      "['anil', 'akhil', 'anant', 'ankur']\n"
     ]
    }
   ],
   "source": [
    "##Write the regular expression and use proper method which Retrieves name starting with 'an' or 'ak'.\n",
    "#Output:- ['anil', 'akhil', 'anant', 'ankur']\n",
    "import re\n",
    "str = 'anil akhil anant abhi arun arati arundhati abhijit ankur'\n",
    "pat = r\"[a][n][a-z]+|[a][k][a-z]+\"\n",
    "a = re.findall(pat,str)\n",
    "print(a)\n"
   ]
  }
 ],
 "metadata": {
  "colab": {
   "name": "Regular_Expression.ipynb",
   "provenance": []
  },
  "kernelspec": {
   "display_name": "Python 3 (ipykernel)",
   "language": "python",
   "name": "python3"
  },
  "language_info": {
   "codemirror_mode": {
    "name": "ipython",
    "version": 3
   },
   "file_extension": ".py",
   "mimetype": "text/x-python",
   "name": "python",
   "nbconvert_exporter": "python",
   "pygments_lexer": "ipython3",
   "version": "3.11.4"
  }
 },
 "nbformat": 4,
 "nbformat_minor": 1
}
